{
 "cells": [
  {
   "cell_type": "markdown",
   "metadata": {},
   "source": [
    "# Dependencies"
   ]
  },
  {
   "cell_type": "code",
   "execution_count": 1,
   "metadata": {
    "collapsed": true
   },
   "outputs": [],
   "source": [
    "from PIL import Image, ImageOps, ImageFilter\n",
    "import time\n",
    "import json\n",
    "import pylab\n",
    "import hashlib\n",
    "import progressbar\n",
    "import numpy as np\n",
    "import matplotlib.pyplot as plt\n",
    "import matplotlib.image as mpimg\n",
    "import random\n",
    "from random import randint\n",
    "\n",
    "from scipy import signal\n",
    "from scipy.interpolate import griddata\n",
    "from sklearn.decomposition import FastICA\n",
    "from sklearn.feature_extraction import image as skimage\n",
    "from ipywidgets import interact, interactive, fixed\n",
    "%matplotlib inline"
   ]
  },
  {
   "cell_type": "markdown",
   "metadata": {},
   "source": [
    "# Utility Functions"
   ]
  },
  {
   "cell_type": "code",
   "execution_count": 2,
   "metadata": {
    "collapsed": true
   },
   "outputs": [],
   "source": [
    "def generate_gabor(size, shift, sigma, rotation, phase_shift, frequency):\n",
    "    radius = (int((size[0]/2.0)), int((size[1]/2.0)))\n",
    "    [x, y] = np.meshgrid(range(-radius[0], radius[0]), range(-radius[1], radius[1])) # a BUG is fixed in this line\n",
    "    x = x - int(shift[0])\n",
    "    y = y - int(shift[1])\n",
    "    x = x * frequency\n",
    "    y = y * frequency\n",
    "    tmp = x * np.cos(rotation) + y * np.sin(rotation) + phase_shift\n",
    "    radius = (int(size[0]/2.0), int(size[1]/2.0))\n",
    "    [x, y] = np.meshgrid(range(-radius[0], radius[0]), range(-radius[1], radius[1])) # a BUG is fixed in this line\n",
    "    \n",
    "    x = x - int(shift[0])\n",
    "    y = y - int(shift[1])\n",
    "    x1 = x * np.cos(rotation) + y * np.sin(rotation)\n",
    "    y1 = -x * np.sin(rotation) + y * np.cos(rotation)\n",
    "    \n",
    "    sinusoid = np.cos(tmp)\n",
    "    \n",
    "    gauss = np.e * np.exp(np.negative(0.5 * ((x1**2 / sigma[0]**2) + (y1**2 / sigma[1]**2)))) \n",
    "    gauss = gauss / 2*np.pi * sigma[0] * sigma[1]\n",
    "    \n",
    "    gabor = gauss * sinusoid\n",
    "    return gabor\n",
    "\n",
    "def open_norm(path,verbose=False):\n",
    "    raw = np.array(Image.open(path).convert(\"L\"))\n",
    "    norm = (raw - np.mean(raw)) / np.std(raw)\n",
    "    \n",
    "    if verbose:\n",
    "        return raw, norm\n",
    "    else:\n",
    "        return norm\n",
    "    \n",
    "def linear_convolution(center, slide): \n",
    "    if (center.shape != slide.shape):\n",
    "        return\n",
    "    padded_slide = np.zeros((center.shape[0],center.shape[1]*3))\n",
    "    padded_slide[0:,center.shape[1]:center.shape[1]*2] = center\n",
    "    #plt.imshow(padded_slide,origin=\"lower\")\n",
    "    #plt.show()\n",
    "    estimate = np.zeros([center.shape[1]*2])\n",
    "    for x in range(center.shape[1]*2):\n",
    "        dot = np.sum(padded_slide[0:,0+x:center.shape[1]+x] * slide)\n",
    "        estimate[x] = dot\n",
    "    #plt.plot(estimate)\n",
    "    #plt.show()\n",
    "    return np.abs(estimate)\n",
    "    \n",
    "def double_convolve(normal, shifted, image, pupillary_distance):\n",
    "    \n",
    "    #CHECKOUT https://github.com/maweigert/gputools\n",
    "    #probably VERY advantageous to switch over to GPU for convolutions!\n",
    "    \n",
    "    normal_convolved = signal.convolve2d(image, normal, boundary='symm', mode='same')\n",
    "    shifted_convolved = signal.convolve2d(image, shifted, boundary='symm', mode='same')\n",
    "    \n",
    "    return_shape = image.shape\n",
    "    \n",
    "    realigned = np.zeros(return_shape)\n",
    "\n",
    "    \n",
    "\n",
    "\n",
    "    normal_convolved = normal_convolved[0:,0:-pupillary_distance]\n",
    "    shifted_convolved = shifted_convolved[0:,pupillary_distance:]\n",
    "    \n",
    "\n",
    "    \n",
    "    \n",
    "    diff = np.subtract(normal_convolved, shifted_convolved)\n",
    "    mul = normal_convolved * shifted_convolved\n",
    "    #plt.imshow(mul,cmap=\"nipy_spectral\")\n",
    "    #plt.show()\n",
    "    \n",
    "    #REMOVE BELOW COMMENTS TO THRESH SUBHALF VALUES\n",
    "    low_values_flags = mul < 0 #mul.max()*0.5  # Where values are low\n",
    "    mul[low_values_flags] = 0  # All low values set to 0\n",
    "    realigned[0:,pupillary_distance:] = mul\n",
    "    return np.abs(mul)\n",
    "\n",
    "def scale_disparity(activity_map, disparity_map):\n",
    "    scaled_disparity = np.zeros([activity_map.shape[0],activity_map.shape[1],disparity_map.shape[0]])\n",
    "    scaled_disparity[:,:] = disparity_map\n",
    "    for x in range(activity_map.shape[0]):\n",
    "        for y in range(activity_map.shape[1]):\n",
    "            scaled_disparity[x,y] = activity_map[x,y] * scaled_disparity[x,y]\n",
    "            \n",
    "    return scaled_disparity"
   ]
  },
  {
   "cell_type": "markdown",
   "metadata": {},
   "source": [
    "# LGN Model"
   ]
  },
  {
   "cell_type": "code",
   "execution_count": 3,
   "metadata": {
    "collapsed": true
   },
   "outputs": [],
   "source": [
    "import random\n",
    "def distance(x0, y0, x1, y1):\n",
    "  return np.sqrt(pow(x0-x1,2) + pow(y0-y1,2))\n",
    "\n",
    "class LGN: \n",
    "  \"\"\"\n",
    "  this class defines a model which generates binocular spontaneous activity\n",
    "  \"\"\"\n",
    "  \n",
    "  def __init__(self, width = 128, p = 0.5, r = 1.0, t = 1, trans = 0.0,\n",
    "    make_wave = True, num_layers=2, random_seed=0):\n",
    "    random.seed(random_seed)\n",
    "    self.width = width\n",
    "    self.p = p\n",
    "    self.r = r\n",
    "    self.t = t\n",
    "    self.trans = trans\n",
    "    self.num_layers = num_layers\n",
    "    if make_wave:\n",
    "      self.reset_wave()\n",
    "\n",
    "  def reset_wave(self):\n",
    "    \"\"\" create another random wave \"\"\"\n",
    "    # setting up the network\n",
    "    w = self.width\n",
    "    self.recruitable = np.random.rand(self.num_layers, w, w) < self.p\n",
    "    self.tot_recruitable = len(np.where(self.recruitable)[0])\n",
    "    self.tot_recruitable_active = 0\n",
    "    self.tot_active = 0\n",
    "    self.active = np.zeros([self.num_layers,w,w],bool)\n",
    "    self.active_neighbors = np.zeros([self.num_layers,w,w],int)\n",
    "    self.activated = []; # the recently active nodes\n",
    "    \n",
    "    if self.tot_recruitable > 0:\n",
    "      while self.fraction_active() < 0.2:\n",
    "        self.activate()  \n",
    "\n",
    "  def fraction_active(self):\n",
    "    \"\"\" returns the fraction of potentially recruitable cells which are active \"\"\"\n",
    "    if self.tot_recruitable > 0:\n",
    "      return float(self.tot_recruitable_active) / self.tot_recruitable\n",
    "    else:\n",
    "      return nan\n",
    "\n",
    "  def propagate(self):\n",
    "    \"\"\" propagate the activity if a valid node has been activated \"\"\"\n",
    "    # activated only has recruitable and currently inactive members\n",
    "    while len(self.activated) > 0:\n",
    "      act_l, act_x, act_y = self.activated.pop()\n",
    "      self.active[act_l,act_x,act_y] = True\n",
    "      self.tot_active += 1\n",
    "      self.tot_recruitable_active += 1\n",
    "      for l in range(self.num_layers):\n",
    "        for x in range(int(act_x-self.r),int(act_x+self.r+1)):\n",
    "          for y in range(int(act_y-self.r),int(act_y+self.r+1)):\n",
    "            if distance(act_x,act_y,x,y) <= self.r:\n",
    "              xi = x % self.width\n",
    "              yi = y % self.width\n",
    "              if l != act_l: # spread the activity across layers\n",
    "                if np.random.rand() < self.trans: # transfer the activity\n",
    "                  self.active_neighbors[l, xi,yi] += 1\n",
    "              else: # if it is the same layer\n",
    "                self.active_neighbors[l, xi,yi] += 1\n",
    "              if self.active_neighbors[l, xi,yi] == self.t and \\\n",
    "                not self.active[l, xi,yi]:\n",
    "                if self.recruitable[l, xi,yi]:\n",
    "                  self.activated.append([l, xi,yi])\n",
    "                else: # activate the node but don't propagate the activity\n",
    "                  self.active[l,xi,yi] = True\n",
    "                  self.tot_active += 1\n",
    "\n",
    "  def activate(self):\n",
    "    \"\"\" activate a random potentially active node \"\"\"\n",
    "    if self.fraction_active() > 0.95:\n",
    "      return\n",
    "      \n",
    "    # pick a random point\n",
    "    while True:\n",
    "      l = np.random.randint(0,self.num_layers)\n",
    "      x = np.random.randint(0,self.width)\n",
    "      y = np. random.randint(0,self.width)\n",
    "      if (self.recruitable[l,x,y] and not self.active[l,x,y]):\n",
    "        break\n",
    "    self.activated.append([l,x,y])\n",
    "    self.propagate()\n",
    "\n",
    "  def correlation(self):\n",
    "    \"\"\" returns the correlation between the left and right images \"\"\"\n",
    "    # the total number of activations in common\n",
    "    # same_count = len(where(self.active[0,:,:] == self.active[1,:,:])[0])\n",
    "    # return float(same_count) / (self.width * self.width)\n",
    "    \n",
    "    # create an activity matrix of 0's and 1's (instead of True and False)\n",
    "    if self.num_layers < 2:\n",
    "      print(\"monocular models cannot have correlations between eye layers\")\n",
    "      return 0\n",
    "    w = self.width\n",
    "    active01 = np.zeros([2,w,w],int)\n",
    "    active01[where(self.active)] = 1\n",
    "    \n",
    "    mean0 = active01[0,:,:].mean()\n",
    "    mean1 = active01[1,:,:].mean()\n",
    "    std0 = active01[0,:,:].std()\n",
    "    std1 = active01[1,:,:].std()\n",
    "    cov = ((active01[0,:,:] - mean0) * (active01[1,:,:] - mean1)).mean()\n",
    "    return cov / (std0 * std1)\n",
    "    \n",
    "  def make_img_mat(self, show_img=True):\n",
    "    \"\"\" return a matrix of 1's and 0's showing the activity in both layers \"\"\"\n",
    "    img_array = np.zeros([self.num_layers,self.width,self.width])\n",
    "    border_width = 10 if self.num_layers > 1 else 0\n",
    "    w = self.width\n",
    "    for l in range(self.num_layers):\n",
    "        img = np.zeros([w, w], float)\n",
    "        for x in range(0,w-1):\n",
    "            for y in range(0,w-1):\n",
    "                if self.active[l,x,y]:\n",
    "                    img[x,y] = 1           \n",
    "    \n",
    "        img_array[l] = img         \n",
    "        #plt.imshow(img)\n",
    "        #plt.show()\n",
    "        \n",
    "    return img_array"
   ]
  },
  {
   "cell_type": "code",
   "execution_count": 4,
   "metadata": {
    "collapsed": true
   },
   "outputs": [],
   "source": [
    "def generate_patches(num_patches, patch_size, lgn_width, lgn_p, lgn_r, lgn_t, lgn_a):\n",
    "    half_comp = patch_size**2\n",
    "    patch_count = 0\n",
    "\n",
    "    while (patch_count < num_patches):\n",
    "        L = LGN(width = lgn_width, p = lgn_p, r = lgn_r, t = lgn_t, trans = lgn_a, make_wave = True, num_layers=2, random_seed=randint(1,100))\n",
    "        layer_activity = L.make_img_mat()\n",
    "        patches_1 = np.array(skimage.extract_patches_2d(layer_activity[0], (patch_size, patch_size)))\n",
    "        patches_2 = np.array(skimage.extract_patches_2d(layer_activity[1], (patch_size, patch_size)))\n",
    "        reshaped_patches_1 = patches_1.reshape(-1, patches_1.shape[1]*patches_1.shape[1])\n",
    "        reshaped_patches_2 = patches_2.reshape(-1, patches_2.shape[1]*patches_2.shape[1])\n",
    "        composite_patches = np.concatenate((reshaped_patches_1,reshaped_patches_2),axis=1)\n",
    "        blacklist = []        \n",
    "        for x in range(composite_patches.shape[0]):\n",
    "            if composite_patches[x][:half_comp].std() == 0.0 or composite_patches[x][half_comp:].std() == 0.0:\n",
    "                blacklist.append(x)\n",
    "        composite_patches = np.delete(composite_patches, np.array(blacklist), axis=0)\n",
    "        if (patch_count == 0):\n",
    "            patch_base = composite_patches\n",
    "        else:\n",
    "            patch_base = np.append(patch_base, composite_patches, axis=0)\n",
    "        patch_count = patch_base.shape[0]\n",
    "\n",
    "    return patch_base[:num_patches]"
   ]
  },
  {
   "cell_type": "code",
   "execution_count": 5,
   "metadata": {
    "collapsed": true
   },
   "outputs": [],
   "source": [
    "def perform_ica(num_components, patches):\n",
    "    # Run ICA on all the patches and return generated components\n",
    "    ica_instance = FastICA(n_components=num_components, random_state=1,max_iter=1000000) # note, sensitive to n_components\n",
    "    icafit = ica_instance.fit(patches)\n",
    "    ica_components = icafit.components_\n",
    "    return ica_components"
   ]
  },
  {
   "cell_type": "code",
   "execution_count": 6,
   "metadata": {
    "collapsed": true
   },
   "outputs": [],
   "source": [
    "def generate_filters(num_filters, num_components, num_patches, patch_size, lgn_width, lgn_p, lgn_r, lgn_t, lgn_a): \n",
    "    filter_count = 0\n",
    "    while (filter_count < num_filters):\n",
    "        patches = generate_patches(num_patches, patch_size, lgn_width, lgn_p, lgn_r, lgn_t, lgn_a)\n",
    "        filters = perform_ica(num_components, patches)\n",
    "        if (filter_count == 0):\n",
    "            filter_base = filters\n",
    "        else:\n",
    "            filter_base = np.append(filter_base, filters, axis=0)\n",
    "        filter_count = filter_base.shape[0]\n",
    "\n",
    "    return filter_base[:num_filters]"
   ]
  },
  {
   "cell_type": "code",
   "execution_count": 7,
   "metadata": {
    "collapsed": true
   },
   "outputs": [],
   "source": [
    "def unpack_filters(filters):\n",
    "    half_filter = int(filters.shape[1]/2)\n",
    "    filter_dim = int(np.sqrt(filters.shape[1]/2))\n",
    "    first_eye = filters[:, 0:half_filter].reshape(-1,filter_dim,filter_dim)\n",
    "    second_eye = filters[:, half_filter:].reshape(-1,filter_dim,filter_dim)\n",
    "    return (first_eye, second_eye)"
   ]
  },
  {
   "cell_type": "code",
   "execution_count": 8,
   "metadata": {
    "collapsed": true
   },
   "outputs": [],
   "source": [
    "def linear_disparity(first_eye, second_eye):\n",
    "    disparity_map = np.empty([first_eye.shape[0],first_eye.shape[1]*2])\n",
    "    for index in range(first_eye.shape[0]):\n",
    "        disparity = linear_convolution(first_eye[index], second_eye[index])\n",
    "        disparity_map[index] = disparity\n",
    "    return disparity_map"
   ]
  },
  {
   "cell_type": "code",
   "execution_count": 9,
   "metadata": {
    "collapsed": true
   },
   "outputs": [],
   "source": [
    "def normalize_disparity(disparity_map):\n",
    "    with np.errstate(divide='ignore', invalid='ignore'):\n",
    "        #normalize_disparity = (disparity_map - np.mean(disparity_map, axis=0)) / np.std(disparity_map)\n",
    "        normalized_disparity = (disparity_map / np.mean(disparity_map, axis=0))\n",
    "\n",
    "        #sum_normalized_disparity = np.sum(normalized_disparity, axis=0)\n",
    "        #double_normalized_disparity = normalized_disparity / sum_normalized_disparity\n",
    "    return normalized_disparity"
   ]
  },
  {
   "cell_type": "code",
   "execution_count": 10,
   "metadata": {
    "collapsed": true
   },
   "outputs": [],
   "source": [
    "def generate_activity(autostereogram, asg_patch_size, first_eye, second_eye, disparity_map):\n",
    "    for index in range(first_eye.shape[0]):\n",
    "        #make this more elegant\n",
    "        convolution = double_convolve(first_eye[index], second_eye[index], autostereogram, asg_patch_size)\n",
    "        scaled_activity = scale_disparity(convolution,disparity_map[index])\n",
    "        if index == 0:\n",
    "            summed_activity = scaled_activity\n",
    "        else:\n",
    "            summed_activity = summed_activity + scaled_activity\n",
    "    return summed_activity"
   ]
  },
  {
   "cell_type": "code",
   "execution_count": 11,
   "metadata": {
    "collapsed": true
   },
   "outputs": [],
   "source": [
    "def estimate_depth(activity):\n",
    "    depth_estimate = np.zeros([activity.shape[0],activity.shape[1]])\n",
    "    for x in range(activity.shape[0]):\n",
    "        for y in range(activity.shape[1]):\n",
    "            peak = int(np.abs(np.nanargmax(activity[x,y])-int(activity.shape[2]/2)))\n",
    "            #peak = np.nanargmax(activity[x,y])\n",
    "            depth_estimate[x,y] = peak\n",
    "    return depth_estimate"
   ]
  },
  {
   "cell_type": "code",
   "execution_count": 12,
   "metadata": {
    "collapsed": true
   },
   "outputs": [],
   "source": [
    "def save_array(input_array, path):\n",
    "    cast_array = (255.0 / input_array.max() * (input_array - input_array.min())).astype(np.uint8)\n",
    "    save_image = Image.fromarray(cast_array)\n",
    "    colorized_image = ImageOps.colorize(save_image, (0,0,0), (0,255,0))\n",
    "    colorized_image.save(path)\n",
    "    print(\"SAVING ACTIVITY TO: %s\" % (path))"
   ]
  },
  {
   "cell_type": "code",
   "execution_count": 13,
   "metadata": {
    "collapsed": true
   },
   "outputs": [],
   "source": [
    "def generate_ident_hash(num_filters, num_components, num_patches, patch_size, lgn_width, lgn_p, lgn_r, lgn_t, lgn_a, current_time):\n",
    "    input_string = \"%f%f%f%f%f%f%f%f%f%f\" % (num_filters, num_components, num_patches, patch_size, lgn_width, lgn_p, lgn_r, lgn_t, lgn_a, current_time)\n",
    "    output_hash = hashlib.sha256(input_string.encode('utf-8')).hexdigest()\n",
    "    return output_hash[:20]"
   ]
  },
  {
   "cell_type": "code",
   "execution_count": 14,
   "metadata": {
    "collapsed": true
   },
   "outputs": [],
   "source": [
    "def calculate_optimal_p(t, r, a):\n",
    "    p = t / (((np.pi * (r**2)/2))*(1+a))\n",
    "    return p\n"
   ]
  },
  {
   "cell_type": "code",
   "execution_count": 15,
   "metadata": {
    "collapsed": true
   },
   "outputs": [],
   "source": [
    "def disparity_distribution(disparity_map):\n",
    "    dist = np.empty([disparity_map.shape[0]])\n",
    "    for x in range(disparity_map.shape[0]):\n",
    "        peak = np.abs(np.nanargmax(disparity_map[x])-int(disparity_map.shape[1]/2))\n",
    "        dist[x] = int(peak)\n",
    "    return dist"
   ]
  },
  {
   "cell_type": "code",
   "execution_count": 16,
   "metadata": {
    "collapsed": true
   },
   "outputs": [],
   "source": [
    "def run_experiment(num_filters, num_components, num_patches, patch_size, lgn_width, lgn_p, lgn_r, lgn_t, lgn_a, autostereogram, asg_patch_size, groundtruth, experiment_folder):\n",
    "    filters = generate_filters(num_filters, num_components, num_patches, patch_size, lgn_width, lgn_p, lgn_r, lgn_t, lgn_a)\n",
    "    split_filters = unpack_filters(filters)\n",
    "    disparity_map = linear_disparity(split_filters[0],split_filters[1])\n",
    "    \n",
    "    #plt.hist(disparity_distribution(disparity_map))\n",
    "    #plt.show()\n",
    "    \n",
    "    #normalized_disparity = disparity_map\n",
    "    \n",
    "    normalized_disparity = normalize_disparity(disparity_map)\n",
    "    #plt.hist(disparity_distribution(normalized_disparity))\n",
    "    #plt.show()\n",
    "    \n",
    "    activity = generate_activity(autostereogram, asg_patch_size, split_filters[0], split_filters[1], normalized_disparity)\n",
    "    depth_estimate = estimate_depth(activity)\n",
    "    correlation = np.corrcoef(depth_estimate.flatten(),groundtruth.flatten())[0,1]\n",
    "    current_time = time.localtime()\n",
    "    ident_hash = generate_ident_hash(num_filters, num_components, num_patches, patch_size, lgn_width, lgn_p, lgn_r, lgn_t, lgn_a, time.time())\n",
    "    image_path = \"%s/%s.png\" % (experiment_folder, ident_hash)\n",
    "    data_path = \"%s/%s.json\" % (experiment_folder, ident_hash)\n",
    "    save_array(depth_estimate, image_path)\n",
    "    params = {\n",
    "        \"num_filters\": num_filters,\n",
    "        \"num_components\": num_components,\n",
    "        \"num_patches\": num_patches,\n",
    "        \"patch_size\": patch_size,\n",
    "        \"lgn_width\": lgn_width,\n",
    "        \"lgn_p\": lgn_p,\n",
    "        \"lgn_r\": lgn_r,\n",
    "        \"lgn_t\": lgn_t,\n",
    "        \"lgn_a\": lgn_a,\n",
    "        \"corr\": np.abs(correlation),\n",
    "        \"time\": time.strftime('%a, %d %b %Y %H:%M:%S GMT', current_time),\n",
    "        \"id\": ident_hash\n",
    "    }\n",
    "    with open(data_path, 'w') as file:\n",
    "        file.write(json.dumps(params))\n",
    "    \n",
    "    return params"
   ]
  },
  {
   "cell_type": "code",
   "execution_count": 17,
   "metadata": {},
   "outputs": [
    {
     "name": "stdout",
     "output_type": "stream",
     "text": [
      "SAVING ACTIVITY TO: feb27/5929f3e472c509831054.png\n",
      "{'num_filters': 2000, 'num_components': 20, 'num_patches': 100000, 'patch_size': 8, 'lgn_width': 64, 'lgn_p': 0.04473434335821827, 'lgn_r': 3, 'lgn_t': 2, 'lgn_a': 0.05, 'corr': 0.10101040931218824, 'time': 'Fri, 02 Mar 2018 16:17:12 GMT', 'id': '5929f3e472c509831054'}\n",
      "SAVING ACTIVITY TO: feb27/6e71c5e16b5bd9abf4fa.png\n",
      "{'num_filters': 2000, 'num_components': 20, 'num_patches': 100000, 'patch_size': 8, 'lgn_width': 64, 'lgn_p': 0.1121015150373274, 'lgn_r': 3, 'lgn_t': 3, 'lgn_a': 0.05, 'corr': 0.25179458372719971, 'time': 'Fri, 02 Mar 2018 16:37:44 GMT', 'id': '6e71c5e16b5bd9abf4fa'}\n",
      "SAVING ACTIVITY TO: feb27/92cf36dd534cb7b07423.png\n",
      "{'num_filters': 2000, 'num_components': 20, 'num_patches': 100000, 'patch_size': 8, 'lgn_width': 64, 'lgn_p': 0.17946868671643654, 'lgn_r': 3, 'lgn_t': 4, 'lgn_a': 0.05, 'corr': 0.14791774807218336, 'time': 'Fri, 02 Mar 2018 16:56:25 GMT', 'id': '92cf36dd534cb7b07423'}\n",
      "SAVING ACTIVITY TO: feb27/72df5353db47699b9464.png\n",
      "{'num_filters': 2000, 'num_components': 20, 'num_patches': 100000, 'patch_size': 8, 'lgn_width': 64, 'lgn_p': 0.18973434335821826, 'lgn_r': 3, 'lgn_t': 2, 'lgn_a': 0.05, 'corr': 0.11210646620487898, 'time': 'Fri, 02 Mar 2018 17:29:43 GMT', 'id': '72df5353db47699b9464'}\n",
      "SAVING ACTIVITY TO: feb27/3cdb78e55b5f5e0601d1.png\n",
      "{'num_filters': 2000, 'num_components': 20, 'num_patches': 100000, 'patch_size': 8, 'lgn_width': 64, 'lgn_p': 0.25710151503732742, 'lgn_r': 3, 'lgn_t': 3, 'lgn_a': 0.05, 'corr': 0.091361109027088758, 'time': 'Fri, 02 Mar 2018 18:03:27 GMT', 'id': '3cdb78e55b5f5e0601d1'}\n",
      "SAVING ACTIVITY TO: feb27/53c4bf1107b6db5e270c.png\n",
      "{'num_filters': 2000, 'num_components': 20, 'num_patches': 100000, 'patch_size': 8, 'lgn_width': 64, 'lgn_p': 0.32446868671643653, 'lgn_r': 3, 'lgn_t': 4, 'lgn_a': 0.05, 'corr': 0.20126772123859227, 'time': 'Fri, 02 Mar 2018 18:35:47 GMT', 'id': '53c4bf1107b6db5e270c'}\n"
     ]
    }
   ],
   "source": [
    "auto = open_norm(\"shift5_70patch.png\",verbose=False)\n",
    "gt = np.array(Image.open(\"dm.png\").convert(\"L\"))\n",
    "carray = []\n",
    "parray = []\n",
    "tarray = []\n",
    "a = 0.05\n",
    "r = 3\n",
    "\n",
    "for pshift in np.linspace(-0.09, 0.055, 2):\n",
    "    for t in range(2,5):\n",
    "        p = calculate_optimal_p(t,r,a) + pshift\n",
    "        x = run_experiment(2000, 20, 100000, 8, 64, p, r, t, a, auto, 70, gt, \"feb27\")\n",
    "        carray.append(x[\"corr\"])\n",
    "        parray.append(x[\"lgn_p\"])\n",
    "        tarray.append(x[\"lgn_t\"])\n",
    "        print(x)\n"
   ]
  },
  {
   "cell_type": "code",
   "execution_count": null,
   "metadata": {
    "collapsed": true
   },
   "outputs": [],
   "source": [
    "auto = open_norm(\"shift5_70patch.png\",verbose=False)\n",
    "gt = np.array(Image.open(\"dm.png\").convert(\"L\"))\n",
    "carray = []\n",
    "parray = []\n",
    "tarray = []\n",
    "a = 0.05\n",
    "r = 3\n",
    "pshift = -0.13\n",
    "for t in range(2,5):\n",
    "    p = calculate_optimal_p(t,r,a) + pshift\n",
    "    x = run_experiment(2000, 20, 100000, 8, 64, p, r, t, a, auto, 70, gt, \"feb27\")\n",
    "    carray.append(x[\"corr\"])\n",
    "    parray.append(x[\"lgn_p\"])\n",
    "    tarray.append(x[\"lgn_t\"])\n",
    "    print(x)"
   ]
  },
  {
   "cell_type": "code",
   "execution_count": null,
   "metadata": {
    "collapsed": true
   },
   "outputs": [],
   "source": [
    "a = 0.05\n",
    "r = 3\n",
    "t = 4\n",
    "print(calculate_optimal_p(t,r,a))"
   ]
  },
  {
   "cell_type": "code",
   "execution_count": 18,
   "metadata": {},
   "outputs": [
    {
     "name": "stdout",
     "output_type": "stream",
     "text": [
      "[0.10101040931218824, 0.25179458372719971, 0.14791774807218336, 0.11210646620487898, 0.091361109027088758, 0.20126772123859227]\n",
      "\n",
      "[0.04473434335821827, 0.1121015150373274, 0.17946868671643654, 0.18973434335821826, 0.25710151503732742, 0.32446868671643653]\n",
      "\n",
      "[2, 3, 4, 2, 3, 4]\n",
      "\n",
      "2 3 4 2 3 4\n",
      "\n"
     ]
    }
   ],
   "source": [
    "print(repr(carray))\n",
    "print()\n",
    "\n",
    "print(repr(parray))\n",
    "print()\n",
    "\n",
    "print(repr(tarray))\n",
    "\n",
    "print()\n",
    "print(*tarray)\n",
    "print()"
   ]
  },
  {
   "cell_type": "code",
   "execution_count": null,
   "metadata": {
    "collapsed": true
   },
   "outputs": [],
   "source": [
    "auto = open_norm(\"shift5_70patch.png\",verbose=False)\n",
    "gt = np.array(Image.open(\"dm.png\").convert(\"L\"))\n",
    "a = 0.05\n",
    "r = 3\n",
    "t = 4\n",
    "pshift = -0.06\n",
    "\n",
    "p = calculate_optimal_p(t,r,a) + pshift\n",
    "x = run_experiment(2000, 20, 100000, 8, 64, p, r, t, a, auto, 70, gt, \"feb27\")\n",
    "print(x)"
   ]
  },
  {
   "cell_type": "code",
   "execution_count": 37,
   "metadata": {},
   "outputs": [
    {
     "data": {
      "image/png": "[encoded data removed]",
      "text/plain": [
       "<matplotlib.figure.Figure at 0x11c4aab00>"
      ]
     },
     "metadata": {},
     "output_type": "display_data"
    }
   ],
   "source": [
    "\n",
    "T = np.array([2, 3, 4, 2, 3, 4, 2, 3, 4,1,2,3,4,1,2,3,4,1,2,3,4,1,2,3,4,1,2,3,4,1,2,3,4,1,2,3,4,1,2,3,4,1, 2, 3, 4, 1, 2, 3, 4, 1, 2, 3, 4, 1, 2, 3, 4, 1, 2, 3, 4])\n",
    "P = np.array([0.04473434335821827, 0.1121015150373274, 0.17946868671643654, 0.18973434335821826, 0.25710151503732742, 0.32446868671643653, 0.04473434335821827, 0.1121015150373274, 0.17946868671643654,0.05736717,0.12473434,0.19210152,0.25946869,0.06236717,0.12973434,0.19710152,0.26446869,0.06736717,0.13473434,0.20210152,0.26946869,0.07236717,0.13973434,0.20710152,0.27446869,0.07736717,0.14473434,0.21210152,0.27946869,0.04736717167910913,0.11473434335821826,0.18210151503732741,0.24946868671643654,0.037367171679109135,0.10473434335821827,0.1721015150373274,0.23946868671643654,0.027367171679109133,0.094734343358218259,0.16210151503732739,0.22946868671643653, 0.087367171679109137, 0.15473434335821826, 0.22210151503732739, 0.28946868671643655, 0.082367171679109133, 0.14973434335821828, 0.21710151503732739, 0.28446868671643655, 0.017367171679109131, 0.084734343358218264, 0.15210151503732738, 0.21946868671643655, 0.11236717167910913, 0.17973434335821825, 0.24710151503732741, 0.31446868671643652, 0.0073671716791091357, 0.074734343358218269, 0.1421015150373274, 0.20946868671643654])\n",
    "C = np.array([0.10101040931218824, 0.25179458372719971, 0.14791774807218336, 0.11210646620487898, 0.091361109027088758, 0.20126772123859227, 0.0091240112032399678, 0.31701710373344527, 0.041496125659664929,0.20901875,0.29107216,0.3037613,0.32117151,0.28128912,0.29050201,0.29816884,0.29965524,0.12731773,0.26513234,0.28540928,0.29925197,0.14468187,0.24243838,0.28029671,0.27945095,0.10775884,0.1144538,0.2743782,0.27575066,0.18560167379858603,0.29391416992579078,0.31368730509565007,0.33351011808696568,0.1487745221539484,0.28485199999801253,0.30699843259932064,0.38863033843126926,0.10555179114639045,0.29859453061044805,0.35266736755924288,0.31959852418113938, 0.029831925234038988, 0.00014214371893566587, 0.25444619879104258, 0.27804075266602013, 0.012787354297292209, 0.0028533485757171969, 0.27279997548133922, 0.25406434634185893, 0.16021170821166847, 0.31700378077517671, 0.39468705645791702, 0.31893359841322633, 0.048175082714572576, 0.012727738648017206, 0.17008241472379274, 0.17700604953799309,0.15216423439324522, 0.38718026837094693, 0.35868359563286295, 0.31110755905955884])\n",
    "\n",
    "\n",
    "\n",
    "p = np.column_stack((T,P))\n",
    "\n",
    "\n",
    "\n",
    "\n",
    "xi = np.linspace(T.min(), T.max(), 100)\n",
    "yi = np.linspace(P.min(), P.max(), 100)\n",
    "xi, yi = np.meshgrid(xi, yi)\n",
    "\n",
    "# interpolate\n",
    "zi = griddata(p, C, (xi, yi), method=\"cubic\")\n",
    "\n",
    "plt.contourf(xi, yi, zi)\n",
    "plt.plot([1,4],[0.06736717167910913,0.26946868671643653], color=\"#ffffff\", linewidth=2.0)\n",
    "plt.plot([1,4],[-0.030436717167910913,0.24346868671643653], color=\"#ffffff\", linewidth=1.0)\n",
    "\n",
    "\n",
    "plt.title('trans = 0.05, r = 3')\n",
    "\n",
    "\n",
    "h = plt.ylabel('P   ')\n",
    "h.set_rotation(0)\n",
    "plt.xlabel('T')\n",
    "\n",
    "\n",
    "plt.savefig(\"contour.png\")"
   ]
  },
  {
   "cell_type": "code",
   "execution_count": null,
   "metadata": {
    "collapsed": true
   },
   "outputs": [],
   "source": [
    "Old_C\n",
    "Old_P\n",
    "Old_T\n"
   ]
  },
  {
   "cell_type": "code",
   "execution_count": null,
   "metadata": {
    "collapsed": true
   },
   "outputs": [],
   "source": [
    "T = [1 2 3 4 1 2 3 4 1 2 3 4 1 2 3 4 1 2 3 4 1 2 3 4 1 2 3 4]\n",
    "\n",
    "P = [ 0.05736717  0.12473434  0.19210152  0.25946869  0.06236717  0.12973434\n",
    "  0.19710152  0.26446869  0.06736717  0.13473434  0.20210152  0.26946869\n",
    "  0.07236717  0.13973434  0.20710152  0.27446869  0.07736717  0.14473434\n",
    "  0.21210152  0.27946869 0.04736717167910913 0.11473434335821826 0.18210151503732741 0.24946868671643654 0.037367171679109135 0.10473434335821827 0.1721015150373274 0.23946868671643654]\n",
    "\n",
    "\n",
    "C = [ 0.20901875  0.29107216  0.3037613   0.32117151  0.28128912  0.29050201\n",
    "  0.29816884  0.29965524  0.12731773  0.26513234  0.28540928  0.29925197\n",
    "  0.14468187  0.24243838  0.28029671  0.27945095  0.10775884  0.1144538\n",
    "  0.2743782   0.27575066 0.18560167379858603 0.29391416992579078 0.31368730509565007 0.33351011808696568 0.1487745221539484 0.28485199999801253 0.30699843259932064 0.38863033843126926]\n",
    "\n",
    "\n",
    "\n",
    "SAVING ACTIVITY TO: feb27/207b95b5858a1a31cf19.png\n",
    "{'num_filters': 2000, 'num_components': 20, 'num_patches': 100000, 'patch_size': 8, 'lgn_width': 64, 'lgn_p': 0.04736717167910913, 'lgn_r': 3, 'lgn_t': 1, 'lgn_a': 0.05, 'corr': 0.18560167379858603, 'time': 'Wed, 28 Feb 2018 18:39:37 GMT', 'id': '207b95b5858a1a31cf19'}\n",
    "SAVING ACTIVITY TO: feb27/aa1af5783d307c443a41.png\n",
    "{'num_filters': 2000, 'num_components': 20, 'num_patches': 100000, 'patch_size': 8, 'lgn_width': 64, 'lgn_p': 0.11473434335821826, 'lgn_r': 3, 'lgn_t': 2, 'lgn_a': 0.05, 'corr': 0.29391416992579078, 'time': 'Wed, 28 Feb 2018 19:12:57 GMT', 'id': 'aa1af5783d307c443a41'}\n",
    "SAVING ACTIVITY TO: feb27/0bed2e8f1a6302b0f4c4.png\n",
    "{'num_filters': 2000, 'num_components': 20, 'num_patches': 100000, 'patch_size': 8, 'lgn_width': 64, 'lgn_p': 0.18210151503732741, 'lgn_r': 3, 'lgn_t': 3, 'lgn_a': 0.05, 'corr': 0.31368730509565007, 'time': 'Wed, 28 Feb 2018 19:34:03 GMT', 'id': '0bed2e8f1a6302b0f4c4'}\n",
    "SAVING ACTIVITY TO: feb27/28f77ccd4f94880ab45b.png\n",
    "{'num_filters': 2000, 'num_components': 20, 'num_patches': 100000, 'patch_size': 8, 'lgn_width': 64, 'lgn_p': 0.24946868671643654, 'lgn_r': 3, 'lgn_t': 4, 'lgn_a': 0.05, 'corr': 0.33351011808696568, 'time': 'Wed, 28 Feb 2018 19:54:57 GMT', 'id': '28f77ccd4f94880ab45b'}\n",
    "\n",
    "SAVING ACTIVITY TO: feb27/b0c3345b3fa3eecc3824.png\n",
    "{'num_filters': 2000, 'num_components': 20, 'num_patches': 100000, 'patch_size': 8, 'lgn_width': 64, 'lgn_p': 0.037367171679109135, 'lgn_r': 3, 'lgn_t': 1, 'lgn_a': 0.05, 'corr': 0.1487745221539484, 'time': 'Wed, 28 Feb 2018 22:53:57 GMT', 'id': 'b0c3345b3fa3eecc3824'}\n",
    "SAVING ACTIVITY TO: feb27/2b71761de1abf5e59c6e.png\n",
    "{'num_filters': 2000, 'num_components': 20, 'num_patches': 100000, 'patch_size': 8, 'lgn_width': 64, 'lgn_p': 0.10473434335821827, 'lgn_r': 3, 'lgn_t': 2, 'lgn_a': 0.05, 'corr': 0.28485199999801253, 'time': 'Wed, 28 Feb 2018 23:14:50 GMT', 'id': '2b71761de1abf5e59c6e'}\n",
    "SAVING ACTIVITY TO: feb27/4a77bc9680eb45fd5a93.png\n",
    "{'num_filters': 2000, 'num_components': 20, 'num_patches': 100000, 'patch_size': 8, 'lgn_width': 64, 'lgn_p': 0.1721015150373274, 'lgn_r': 3, 'lgn_t': 3, 'lgn_a': 0.05, 'corr': 0.30699843259932064, 'time': 'Wed, 28 Feb 2018 23:35:23 GMT', 'id': '4a77bc9680eb45fd5a93'}\n",
    "SAVING ACTIVITY TO: feb27/3d3f27681d4266982c7f.png\n",
    "{'num_filters': 2000, 'num_components': 20, 'num_patches': 100000, 'patch_size': 8, 'lgn_width': 64, 'lgn_p': 0.23946868671643654, 'lgn_r': 3, 'lgn_t': 4, 'lgn_a': 0.05, 'corr': 0.38863033843126926, 'time': 'Wed, 28 Feb 2018 23:55:50 GMT', 'id': '3d3f27681d4266982c7f'}\n",
    "\n",
    "SAVING ACTIVITY TO: feb27/10dc163bb54b771cd996.png\n",
    "{'num_filters': 2000, 'num_components': 20, 'num_patches': 100000, 'patch_size': 8, 'lgn_width': 64, 'lgn_p': 0.027367171679109133, 'lgn_r': 3, 'lgn_t': 1, 'lgn_a': 0.05, 'corr': 0.10555179114639045, 'time': 'Thu, 01 Mar 2018 01:13:21 GMT', 'id': '10dc163bb54b771cd996'}\n",
    "SAVING ACTIVITY TO: feb27/2d9a8a7285b3183ef27a.png\n",
    "{'num_filters': 2000, 'num_components': 20, 'num_patches': 100000, 'patch_size': 8, 'lgn_width': 64, 'lgn_p': 0.094734343358218259, 'lgn_r': 3, 'lgn_t': 2, 'lgn_a': 0.05, 'corr': 0.29859453061044805, 'time': 'Thu, 01 Mar 2018 01:34:13 GMT', 'id': '2d9a8a7285b3183ef27a'}\n",
    "SAVING ACTIVITY TO: feb27/628e5234094e016a2e83.png\n",
    "{'num_filters': 2000, 'num_components': 20, 'num_patches': 100000, 'patch_size': 8, 'lgn_width': 64, 'lgn_p': 0.16210151503732739, 'lgn_r': 3, 'lgn_t': 3, 'lgn_a': 0.05, 'corr': 0.35266736755924288, 'time': 'Thu, 01 Mar 2018 01:54:45 GMT', 'id': '628e5234094e016a2e83'}\n",
    "SAVING ACTIVITY TO: feb27/c86c3928f94fdb4ba12b.png\n",
    "{'num_filters': 2000, 'num_components': 20, 'num_patches': 100000, 'patch_size': 8, 'lgn_width': 64, 'lgn_p': 0.22946868671643653, 'lgn_r': 3, 'lgn_t': 4, 'lgn_a': 0.05, 'corr': 0.31959852418113938, 'time': 'Thu, 01 Mar 2018 02:14:44 GMT', 'id': 'c86c3928f94fdb4ba12b'}\n",
    "SAVING ACTIVITY TO: feb27/74838082fb46b2740620.png\n",
    "\n",
    "\n",
    "T = np.array([1,2,3,4,1,2,3,4,1,2,3,4,1,2,3,4,1,2,3,4,1,2,3,4,1,2,3,4])\n",
    "P = np.array([0.05736717,0.12473434,0.19210152,0.25946869,0.06236717,0.12973434,0.19710152,0.26446869,0.06736717,0.13473434,0.20210152,0.26946869,0.07236717,0.13973434,0.20710152,0.27446869,0.07736717,0.14473434,0.21210152,0.27946869,0.04736717167910913,0.11473434335821826,0.18210151503732741,0.24946868671643654,0.037367171679109135,0.10473434335821827,0.1721015150373274,0.23946868671643654])\n",
    "C = np.array([0.20901875,0.29107216,0.3037613,0.32117151,0.28128912,0.29050201,0.29816884,0.29965524,0.12731773,0.26513234,0.28540928,0.29925197,0.14468187,0.24243838,0.28029671,0.27945095,0.10775884,0.1144538,0.2743782,0.27575066,0.18560167379858603,0.29391416992579078,0.31368730509565007,0.33351011808696568,0.1487745221539484,0.28485199999801253,0.30699843259932064,0.38863033843126926])\n",
    "\n",
    "\n",
    "\n",
    "T = np.array([1,2,3,4,1,2,3,4,1,2,3,4,1,2,3,4,1,2,3,4,1,2,3,4,1,2,3,4,1,2,3,4])\n",
    "P = np.array([0.05736717,0.12473434,0.19210152,0.25946869,0.06236717,0.12973434,0.19710152,0.26446869,0.06736717,0.13473434,0.20210152,0.26946869,0.07236717,0.13973434,0.20710152,0.27446869,0.07736717,0.14473434,0.21210152,0.27946869,0.04736717167910913,0.11473434335821826,0.18210151503732741,0.24946868671643654,0.037367171679109135,0.10473434335821827,0.1721015150373274,0.23946868671643654,0.027367171679109133,0.094734343358218259,0.16210151503732739,0.22946868671643653])\n",
    "C = np.array([0.20901875,0.29107216,0.3037613,0.32117151,0.28128912,0.29050201,0.29816884,0.29965524,0.12731773,0.26513234,0.28540928,0.29925197,0.14468187,0.24243838,0.28029671,0.27945095,0.10775884,0.1144538,0.2743782,0.27575066,0.18560167379858603,0.29391416992579078,0.31368730509565007,0.33351011808696568,0.1487745221539484,0.28485199999801253,0.30699843259932064,0.38863033843126926,0.10555179114639045,0.29859453061044805,0.35266736755924288,0.31959852418113938])\n",
    "\n"
   ]
  },
  {
   "cell_type": "code",
   "execution_count": null,
   "metadata": {
    "collapsed": true
   },
   "outputs": [],
   "source": [
    "SAVING ACTIVITY TO: feb23_2018/8144dcb0b8e3b1a81b2a.png\n",
    "{'num_filters': 2000, 'num_components': 20, 'num_patches': 100000, 'patch_size': 8, 'lgn_width': 64, 'lgn_p': 0.13473434335821827, 'lgn_r': 3, 'lgn_t': 2, 'lgn_a': 0.05, 'corr': 0.27331283620845676, 'time': 'Tue, 27 Feb 2018 23:40:43 GMT', 'id': '8144dcb0b8e3b1a81b2a'}\n",
    "SAVING ACTIVITY TO: feb23_2018/d568dc471e40b6b0b675.png\n",
    "{'num_filters': 2000, 'num_components': 20, 'num_patches': 100000, 'patch_size': 8, 'lgn_width': 64, 'lgn_p': 0.13473434335821827, 'lgn_r': 3, 'lgn_t': 2, 'lgn_a': 0.05, 'corr': 0.26599147637795101, 'time': 'Wed, 28 Feb 2018 00:03:59 GMT', 'id': 'd568dc471e40b6b0b675'}\n",
    "SAVING ACTIVITY TO: feb23_2018/27c9d96d657d23c0ba7a.png\n",
    "{'num_filters': 2000, 'num_components': 20, 'num_patches': 100000, 'patch_size': 8, 'lgn_width': 64, 'lgn_p': 0.13473434335821827, 'lgn_r': 3, 'lgn_t': 2, 'lgn_a': 0.05, 'corr': 0.27595317580808237, 'time': 'Wed, 28 Feb 2018 00:26:52 GMT', 'id': '27c9d96d657d23c0ba7a'}"
   ]
  },
  {
   "cell_type": "code",
   "execution_count": 78,
   "metadata": {},
   "outputs": [
    {
     "name": "stdout",
     "output_type": "stream",
     "text": [
      "0.2521015150373274\n"
     ]
    },
    {
     "data": {
      "image/png": "[encoded data removed]",
      "text/plain": [
       "<matplotlib.figure.Figure at 0x11cf18b70>"
      ]
     },
     "metadata": {},
     "output_type": "display_data"
    },
    {
     "data": {
      "image/png": "[encoded data removed]",
      "text/plain": [
       "<matplotlib.figure.Figure at 0x11c1af940>"
      ]
     },
     "metadata": {},
     "output_type": "display_data"
    }
   ],
   "source": [
    "lgn_width = 128\n",
    "lgn_t = 3\n",
    "lgn_a = 0.05\n",
    "lgn_r = 3\n",
    "lgn_p = calculate_optimal_p(lgn_t,lgn_r,lgn_a) + 0.05\n",
    "print(lgn_p)\n",
    "\n",
    "\n",
    "\n",
    "L = LGN(width = lgn_width, p = lgn_p, r = lgn_r, t = lgn_t, trans = lgn_a, make_wave = True, num_layers=2, random_seed=randint(1,100))\n",
    "layer_activity = L.make_img_mat()\n",
    "plt.rcParams['figure.figsize'] = [20, 10]\n",
    "plt.imshow(layer_activity[0])\n",
    "plt.show()\n",
    "\n",
    "normal = np.array([[1,1,1],[1,0,1],[1,1,1]])\n",
    "conv2d = signal.convolve2d(layer_activity[0], normal, boundary='symm', mode='same')\n",
    "\n",
    "thresh = 4.0\n",
    "conv2d[np.where(conv2d >= thresh)]  = 255\n",
    "conv2d[np.where(conv2d < thresh)]  = 0\n",
    "\n",
    "\n",
    "plt.imshow(conv2d)\n",
    "plt.show()\n",
    "\n",
    "\n"
   ]
  },
  {
   "cell_type": "code",
   "execution_count": null,
   "metadata": {
    "collapsed": true
   },
   "outputs": [],
   "source": []
  },
  {
   "cell_type": "code",
   "execution_count": null,
   "metadata": {
    "collapsed": true
   },
   "outputs": [],
   "source": []
  }
 ],
 "metadata": {
  "kernelspec": {
   "display_name": "Python 3",
   "language": "python",
   "name": "python3"
  },
  "language_info": {
   "codemirror_mode": {
    "name": "ipython",
    "version": 3
   },
   "file_extension": ".py",
   "mimetype": "text/x-python",
   "name": "python",
   "nbconvert_exporter": "python",
   "pygments_lexer": "ipython3",
   "version": "3.6.1"
  }
 },
 "nbformat": 4,
 "nbformat_minor": 2
}
