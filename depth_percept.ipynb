{
 "cells": [
  {
   "cell_type": "code",
   "execution_count": 1,
   "metadata": {
    "collapsed": true
   },
   "outputs": [],
   "source": [
    "%matplotlib inline\n",
    "import matplotlib.pyplot as plt #plotting\n",
    "import numpy as np #array handling\n",
    "from PIL import Image #image loading\n",
    "\n",
    "from scipy import signal #convolution\n",
    "\n",
    "from ipywidgets import interact, interactive, fixed"
   ]
  },
  {
   "cell_type": "code",
   "execution_count": 2,
   "metadata": {
    "collapsed": true
   },
   "outputs": [],
   "source": [
    "def generate_gabor(size, shift, sigma, rotation, phase_shift, frequency):\n",
    "    radius = (int((size[0]/2.0)), int((size[1]/2.0)))\n",
    "    [x, y] = np.meshgrid(range(-radius[0], radius[0]), range(-radius[1], radius[1])) # a BUG is fixed in this line\n",
    "    x = x - int(shift[0])\n",
    "    y = y - int(shift[1])\n",
    "    x = x * frequency\n",
    "    y = y * frequency\n",
    "    tmp = x * np.cos(rotation) + y * np.sin(rotation) + phase_shift\n",
    "    radius = (int(size[0]/2.0), int(size[1]/2.0))\n",
    "    [x, y] = np.meshgrid(range(-radius[0], radius[0]), range(-radius[1], radius[1])) # a BUG is fixed in this line\n",
    "    \n",
    "    x = x - int(shift[0])\n",
    "    y = y - int(shift[1])\n",
    "    x1 = x * np.cos(rotation) + y * np.sin(rotation)\n",
    "    y1 = -x * np.sin(rotation) + y * np.cos(rotation)\n",
    "    \n",
    "    sinusoid = np.cos(tmp)\n",
    "    \n",
    "    gauss = np.e * np.exp(np.negative(0.5 * ((x1**2 / sigma[0]**2) + (y1**2 / sigma[1]**2)))) \n",
    "    gauss = gauss / 2*np.pi * sigma[0] * sigma[1]\n",
    "    \n",
    "    gabor = gauss * sinusoid\n",
    "    return gabor\n",
    "\n",
    "def open_norm(path,verbose=False):\n",
    "    raw = np.array(Image.open(path).convert(\"L\"))\n",
    "    norm = (raw - np.mean(raw)) / np.std(raw)\n",
    "    \n",
    "    if verbose:\n",
    "        return raw, norm\n",
    "    else:\n",
    "        return norm\n",
    "    \n",
    "def linear_convolution(center, slide): \n",
    "    if (center.shape != slide.shape):\n",
    "        return\n",
    "    padded_slide = np.zeros((center.shape[0],center.shape[1]*3))\n",
    "    padded_slide[0:,center.shape[1]:center.shape[1]*2] = center\n",
    "    plt.imshow(padded_slide,origin=\"lower\")\n",
    "    plt.show()\n",
    "    estimate = np.empty([center.shape[1]*2])\n",
    "    for x in range(center.shape[1]*2):\n",
    "        dot = np.sum(padded_slide[0:,0+x:center.shape[1]+x] * slide)\n",
    "        estimate[x] = dot\n",
    "    plt.plot(np.abs(estimate))\n",
    "    plt.show()\n",
    "    print(np.argmax(np.abs(estimate)))\n",
    "    \n",
    "def double_convolve(normal, shifted, image, pupillary_distance):\n",
    "    \n",
    "    normal_convolved = signal.convolve2d(image, normal, boundary='symm', mode='same')\n",
    "    shifted_convolved = signal.convolve2d(image, shifted, boundary='symm', mode='same')\n",
    "    \n",
    "\n",
    "\n",
    "    normal_convolved = normal_convolved[0:,0:-pupillary_distance]\n",
    "    shifted_convolved = shifted_convolved[0:,pupillary_distance:]\n",
    "    \n",
    "    diff = np.subtract(normal_convolved, shifted_convolved)\n",
    "    mul = normal_convolved * shifted_convolved\n",
    "    #plt.imshow(mul,cmap=\"nipy_spectral\")\n",
    "    #plt.show()\n",
    "    \n",
    "    low_values_flags = mul <= mul.max()*0.5  # Where values are low\n",
    "    mul[low_values_flags] = 0  # All low values set to 0\n",
    "    return mul"
   ]
  },
  {
   "cell_type": "code",
   "execution_count": 5,
   "metadata": {},
   "outputs": [
    {
     "data": {
      "application/vnd.jupyter.widget-view+json": {
       "model_id": "a92c79fb853740e3b3d9946352d7201f"
      }
     },
     "metadata": {},
     "output_type": "display_data"
    },
    {
     "data": {
      "text/plain": [
       "<function __main__.demo_gabor>"
      ]
     },
     "execution_count": 5,
     "metadata": {},
     "output_type": "execute_result"
    }
   ],
   "source": [
    "def demo_gabor(shift_x, shift_y, sigma_x, sigma_y, rotation, phase_shift, frequency,pd):\n",
    "    size=(64,64)\n",
    "    shift=(shift_x,shift_y)\n",
    "    sigma=(sigma_x,sigma_y)\n",
    "    static = generate_gabor(size, shift, sigma, rotation, phase_shift, frequency)\n",
    "    plt.imshow(static, origin=\"lower\")\n",
    "    plt.show()\n",
    "    \n",
    "    #tested pupil distance shift -- remove pd from function for basic gabor demo\n",
    "    \n",
    "    n_shift=(shift_x+pd,shift_y)\n",
    "    shifted = generate_gabor(size, n_shift, sigma, rotation, phase_shift, frequency)\n",
    "    plt.imshow(shifted, origin=\"lower\")\n",
    "    plt.show()\n",
    "    print(size, shift, sigma, rotation, phase_shift, frequency)\n",
    "    print(size, n_shift, sigma, rotation, phase_shift, frequency)\n",
    "\n",
    "    \n",
    "    #end\n",
    "    \n",
    "    #Start explorative linear convolution\n",
    "    linear_convolution(static, shifted)\n",
    "\n",
    "interact(demo_gabor, phase_shift=(0,2*np.pi,0.01), shift_x=(-24,24,0.1),shift_y=(-24,24,0.1),sigma_x=(0,20,0.01),sigma_y=(0,20,0.01),rotation=(0,np.pi,0.01),frequency=(0.1,3.0,0.1),pd=(-100,100,1))\n",
    "\n",
    "\n"
   ]
  },
  {
   "cell_type": "code",
   "execution_count": 3,
   "metadata": {},
   "outputs": [
    {
     "data": {
      "image/png": "[encoded data removed]",
      "text/plain": [
       "<matplotlib.figure.Figure at 0x1169e4da0>"
      ]
     },
     "metadata": {},
     "output_type": "display_data"
    }
   ],
   "source": [
    "image = open_norm(\"data/shift5_patch70.png\",verbose=False)\n",
    "norm = generate_gabor((64, 64),(0.0, 0),(4.5, 7.59),3.0,3.14,0.4)\n",
    "shifted = generate_gabor((64, 64),(5.0, 0),(4.5, 7.59),3.0,3.14,0.4)\n",
    "test = double_convolve(norm, shifted, image,70)\n",
    "plt.imshow(test)\n",
    "plt.show()"
   ]
  },
  {
   "cell_type": "code",
   "execution_count": 20,
   "metadata": {
    "scrolled": true
   },
   "outputs": [
    {
     "data": {
      "image/png": "[encoded data removed]",
      "text/plain": [
       "<matplotlib.figure.Figure at 0x10b28e1d0>"
      ]
     },
     "metadata": {},
     "output_type": "display_data"
    }
   ],
   "source": [
    "image = open_norm(\"data/shift5_patch70.png\",verbose=False)\n",
    "sum_array = np.zeros([600,530])\n",
    "\n",
    "for y_shift in np.arange(-5, 5, 1):\n",
    "\n",
    "    for rotation in np.arange(2.5, 3.14, 0.1):\n",
    "        norm = generate_gabor((64, 64),(0.0, y_shift),(4.5, 7.59),rotation,3.14,0.4)\n",
    "        shifted = generate_gabor((64, 64),(5.0, y_shift),(4.5, 7.59),rotation,3.14,0.4)\n",
    "        test = double_convolve(norm, shifted, image,70)\n",
    "        sum_array = np.add(sum_array,test)\n",
    "\n",
    "    for rotation in np.arange(0.0, 0.85, 0.1):\n",
    "        norm = generate_gabor((64, 64),(0.0, y_shift),(4.5, 7.59),rotation,3.14,0.4)\n",
    "        shifted = generate_gabor((64, 64),(5.0, y_shift),(4.5, 7.59),rotation,3.14,0.4)\n",
    "        test = double_convolve(norm, shifted, image,70)\n",
    "        sum_array = np.add(sum_array,test)\n",
    "\n",
    "\n",
    "#       pupillary distance is 21  ^^^\n",
    "plt.imshow(sum_array, origin=\"lower\", cmap=\"gray\")\n",
    "plt.show()\n",
    "\n",
    "#double_convolve(norm, shifted, image,70)\n"
   ]
  },
  {
   "cell_type": "code",
   "execution_count": 21,
   "metadata": {},
   "outputs": [
    {
     "data": {
      "image/png": "[encoded data removed]",
      "text/plain": [
       "<matplotlib.figure.Figure at 0x108c29a58>"
      ]
     },
     "metadata": {},
     "output_type": "display_data"
    }
   ],
   "source": [
    "plt.imshow(sum_array)\n",
    "plt.show()"
   ]
  },
  {
   "cell_type": "code",
   "execution_count": 22,
   "metadata": {
    "collapsed": true
   },
   "outputs": [],
   "source": [
    "rescaled = (255.0 / sum_array.max() * (sum_array - sum_array.min())).astype(np.uint8)\n",
    "\n",
    "im = Image.fromarray(rescaled)\n",
    "im.save('test.png')"
   ]
  },
  {
   "cell_type": "code",
   "execution_count": null,
   "metadata": {
    "collapsed": true
   },
   "outputs": [],
   "source": []
  }
 ],
 "metadata": {
  "kernelspec": {
   "display_name": "Python 3",
   "language": "python",
   "name": "python3"
  },
  "language_info": {
   "codemirror_mode": {
    "name": "ipython",
    "version": 3
   },
   "file_extension": ".py",
   "mimetype": "text/x-python",
   "name": "python",
   "nbconvert_exporter": "python",
   "pygments_lexer": "ipython3",
   "version": "3.6.1"
  }
 },
 "nbformat": 4,
 "nbformat_minor": 2
}
